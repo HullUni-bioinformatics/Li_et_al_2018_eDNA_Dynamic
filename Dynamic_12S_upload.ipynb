{
 "cells": [
  {
   "cell_type": "markdown",
   "metadata": {},
   "source": [
    "#metaBEAT analysis of Illumina seq output for Dynamic_12S"
   ]
  },
  {
   "cell_type": "markdown",
   "metadata": {},
   "source": [
    "###Mark sure your metaBEAT image version is the latest\n",
    "\n",
    "`metaBEAT - metaBarcoding and Environmental DNA Analyses tool version: v.0.97.11-global`\n",
    "\n",
    "Update from your terminal\n",
    "\n",
    "####check the image, the ID of metaBEAT v.0.97.11 should be `6f6ac6eca734`\n",
    "\n",
    "sudo docker images\n",
    "####if not, use the command to update the image from your terminal\n",
    "\n",
    "sudo docker pull chrishah/metabeat\n"
   ]
  },
  {
   "cell_type": "code",
   "execution_count": 1,
   "metadata": {
    "collapsed": false
   },
   "outputs": [
    {
     "name": "stdout",
     "output_type": "stream",
     "text": [
      "/home/working\r\n"
     ]
    }
   ],
   "source": [
    "!pwd"
   ]
  },
  {
   "cell_type": "markdown",
   "metadata": {},
   "source": [
    "##The first step will be to trim/clean our raw Illumina data"
   ]
  },
  {
   "cell_type": "markdown",
   "metadata": {},
   "source": [
    "Prepare a text file ' Querymap' specifying the samples to be processed including the format and location of the reads.\n",
    "\n",
    "The below command expects the Illumina data to be present in 2 fastq files (forward and reverse reads) per sample in a directory ./raw_data/. It expects the files to be named 'plateID_L001', followed by 'R1' or 'R2' to identify the forward/reverse read file respectively. \n",
    "\n",
    "We need a query map which lists these files along with the primer combinations for each well in each file, and the length of the primer sequence (including heterogeneity spacers, but NOT including any tags) to be trimmed off."
   ]
  },
  {
   "cell_type": "code",
   "execution_count": 2,
   "metadata": {
    "collapsed": true
   },
   "outputs": [],
   "source": [
    "!mkdir trimming"
   ]
  },
  {
   "cell_type": "code",
   "execution_count": 3,
   "metadata": {
    "collapsed": false
   },
   "outputs": [
    {
     "name": "stdout",
     "output_type": "stream",
     "text": [
      "/home/working/trimming\n"
     ]
    }
   ],
   "source": [
    "cd trimming/"
   ]
  },
  {
   "cell_type": "code",
   "execution_count": 4,
   "metadata": {
    "collapsed": false
   },
   "outputs": [],
   "source": [
    "!mv ../Querymap_demultiplex_trimming.txt ../trimming/"
   ]
  },
  {
   "cell_type": "code",
   "execution_count": 5,
   "metadata": {
    "collapsed": false
   },
   "outputs": [
    {
     "name": "stdout",
     "output_type": "stream",
     "text": [
      "Querymap_demultiplex_trimming.txt\r\n"
     ]
    }
   ],
   "source": [
    "!ls ../trimming/"
   ]
  },
  {
   "cell_type": "code",
   "execution_count": 6,
   "metadata": {
    "collapsed": false,
    "scrolled": false
   },
   "outputs": [
    {
     "name": "stdout",
     "output_type": "stream",
     "text": [
      "E1_D0_P1_1\tfastq\t../raw_data/E1_D0-12S_R1.fastq.gz\t../raw_data/E1_D0-12S_R2.fastq.gz\tTCGCCTTA\tTAGATCGC\t18\t18\r",
      "\r\n",
      "E1_D0_P1_2\tfastq\t../raw_data/E1_D0-12S_R1.fastq.gz\t../raw_data/E1_D0-12S_R2.fastq.gz\tTCGCCTTA\tCTCTCTAT\t18\t19\r",
      "\r\n",
      "E1_D0_P1_3\tfastq\t../raw_data/E1_D0-12S_R1.fastq.gz\t../raw_data/E1_D0-12S_R2.fastq.gz\tTCGCCTTA\tTATCCTCT\t18\t20\r",
      "\r\n",
      "E1_D0_Blank1\tfastq\t../raw_data/E1_D0-12S_R1.fastq.gz\t../raw_data/E1_D0-12S_R2.fastq.gz\tTCGCCTTA\tAGAGTAGA\t18\t21\r",
      "\r\n",
      "E1_D0_P2_1\tfastq\t../raw_data/E1_D0-12S_R1.fastq.gz\t../raw_data/E1_D0-12S_R2.fastq.gz\tTCGCCTTA\tGTAAGGAG\t18\t22\r",
      "\r\n",
      "E1_D0_P2_2\tfastq\t../raw_data/E1_D0-12S_R1.fastq.gz\t../raw_data/E1_D0-12S_R2.fastq.gz\tTCGCCTTA\tACTGCATA\t18\t23\r",
      "\r\n",
      "E1_D0_P2_3\tfastq\t../raw_data/E1_D0-12S_R1.fastq.gz\t../raw_data/E1_D0-12S_R2.fastq.gz\tTCGCCTTA\tAAGGAGTA\t18\t24\r",
      "\r\n",
      "E1_D0_P3_1\tfastq\t../raw_data/E1_D0-12S_R1.fastq.gz\t../raw_data/E1_D0-12S_R2.fastq.gz\tCTAGTACG\tTAGATCGC\t19\t18\r",
      "\r\n",
      "E1_D0_P3_2\tfastq\t../raw_data/E1_D0-12S_R1.fastq.gz\t../raw_data/E1_D0-12S_R2.fastq.gz\tCTAGTACG\tCTCTCTAT\t19\t19\r",
      "\r\n",
      "E1_D0_P3_3\tfastq\t../raw_data/E1_D0-12S_R1.fastq.gz\t../raw_data/E1_D0-12S_R2.fastq.gz\tCTAGTACG\tTATCCTCT\t19\t20\r",
      "\r\n"
     ]
    }
   ],
   "source": [
    "!head Querymap_demultiplex_trimming.txt"
   ]
  },
  {
   "cell_type": "code",
   "execution_count": 7,
   "metadata": {
    "collapsed": false,
    "scrolled": true
   },
   "outputs": [
    {
     "name": "stdout",
     "output_type": "stream",
     "text": [
      "E1_D0-12S_R1.fastq.gz   E1_D10-12S_R2.fastq.gz  E4_D06-12S_R1.fastq.gz\r\n",
      "E1_D0-12S_R2.fastq.gz   E1_D12-12S_R1.fastq.gz  E4_D06-12S_R2.fastq.gz\r\n",
      "E1_D02-12S_R1.fastq.gz  E1_D12-12S_R2.fastq.gz  E4_D08-12S_R1.fastq.gz\r\n",
      "E1_D02-12S_R2.fastq.gz  E1_D14-12S_R1.fastq.gz  E4_D08-12S_R2.fastq.gz\r\n",
      "E1_D04-12S_R1.fastq.gz  E1_D14-12S_R2.fastq.gz  E4_D10-12S_R1.fastq.gz\r\n",
      "E1_D04-12S_R2.fastq.gz  E4_D0-12S_R1.fastq.gz   E4_D10-12S_R2.fastq.gz\r\n",
      "E1_D06-12S_R1.fastq.gz  E4_D0-12S_R2.fastq.gz   E4_D12-12S_R1.fastq.gz\r\n",
      "E1_D06-12S_R2.fastq.gz  E4_D02-12S_R1.fastq.gz  E4_D12-12S_R2.fastq.gz\r\n",
      "E1_D08-12S_R1.fastq.gz  E4_D02-12S_R2.fastq.gz  E4_D14-12S_R1.fastq.gz\r\n",
      "E1_D08-12S_R2.fastq.gz  E4_D04-12S_R1.fastq.gz  E4_D14-12S_R2.fastq.gz\r\n",
      "E1_D10-12S_R1.fastq.gz  E4_D04-12S_R2.fastq.gz\r\n"
     ]
    }
   ],
   "source": [
    "ls ../raw_data/"
   ]
  },
  {
   "cell_type": "markdown",
   "metadata": {},
   "source": [
    "### The current version of metaBEAT is v.0.97.8-global"
   ]
  },
  {
   "cell_type": "code",
   "execution_count": null,
   "metadata": {
    "collapsed": true
   },
   "outputs": [],
   "source": [
    "%%bash\n",
    "\n",
    "metaBEAT_global.py -h"
   ]
  },
  {
   "cell_type": "markdown",
   "metadata": {},
   "source": [
    "##Raw data demultiplex and trimming, removal of adapter sequences and merging of readsusing the metaBEAT pipeline.¶"
   ]
  },
  {
   "cell_type": "markdown",
   "metadata": {},
   "source": [
    "Now we run the trimming and clustering; note that there is no assignment method selected at this stage so metaBEAT will not attempt to make any assignments"
   ]
  },
  {
   "cell_type": "code",
   "execution_count": 10,
   "metadata": {
    "collapsed": false
   },
   "outputs": [
    {
     "name": "stdout",
     "output_type": "stream",
     "text": [
      "Starttime: Tue May  8 12:41:03 UTC 2018\n",
      "\n",
      "Endtime: Tue May  8 15:33:13 UTC 2018\n",
      "\n"
     ]
    }
   ],
   "source": [
    "%%bash\n",
    "\n",
    "echo -e \"Starttime: $(date)\\n\"\n",
    "\n",
    "metaBEAT_global.py \\\n",
    "-Q Querymap_demultiplex_trimming.txt \\\n",
    "--trim_qual 30 \\\n",
    "--trim_minlength 90 \\\n",
    "--merge \\\n",
    "--product_length 110 \\\n",
    "--read_crop 110 \\\n",
    "--forward_only \\\n",
    "--length_filter 100 \\\n",
    "--length_deviation 0.2 \\\n",
    "-m 12S -o Dyn_12S-trim30min90-merge-c3-id1 \\\n",
    "-n 5 -v \\\n",
    "-@ haikuilee@gmail.com &> log_trimming\n",
    "\n",
    "echo -e \"Endtime: $(date)\\n\""
   ]
  },
  {
   "cell_type": "code",
   "execution_count": 11,
   "metadata": {
    "collapsed": false
   },
   "outputs": [
    {
     "name": "stdout",
     "output_type": "stream",
     "text": [
      "/home/working\n"
     ]
    }
   ],
   "source": [
    "cd ../"
   ]
  },
  {
   "cell_type": "markdown",
   "metadata": {},
   "source": [
    "## The second step is chimera detection"
   ]
  },
  {
   "cell_type": "code",
   "execution_count": 12,
   "metadata": {
    "collapsed": true
   },
   "outputs": [],
   "source": [
    "!mkdir chimera_detection"
   ]
  },
  {
   "cell_type": "code",
   "execution_count": 13,
   "metadata": {
    "collapsed": false
   },
   "outputs": [
    {
     "name": "stdout",
     "output_type": "stream",
     "text": [
      "/home/working/chimera_detection\n"
     ]
    }
   ],
   "source": [
    "cd chimera_detection/"
   ]
  },
  {
   "cell_type": "markdown",
   "metadata": {},
   "source": [
    "### Prepare Ref map\n",
    "    \n",
    "Convert reference database from Genbank to fasta format to be used in chimera detection.\n",
    "\n",
    "Prepare Refmap file, i.e. text file that specifies the location and the format of the reference to be used.\n",
    "\n",
    "The reference sequences in Genbank format should already be present in the `supplementary_data` directory: \n",
    "\n",
    "`12S_Fish_SATIVA_cleaned_May_2017.gb`\n",
    "\n",
    "`Astatotilapia_calliptera.gb` is positive control"
   ]
  },
  {
   "cell_type": "code",
   "execution_count": 14,
   "metadata": {
    "collapsed": false
   },
   "outputs": [
    {
     "name": "stdout",
     "output_type": "stream",
     "text": [
      "12S_Fish_SATIVA_cleaned_May_2017.gb  Astatotilapia_calliptera.gb\r\n"
     ]
    }
   ],
   "source": [
    "!ls ../supplementary_data/reference_DBs/"
   ]
  },
  {
   "cell_type": "code",
   "execution_count": 15,
   "metadata": {
    "collapsed": true
   },
   "outputs": [],
   "source": [
    "%%bash\n",
    "\n",
    "#Write REFmap\n",
    "for file in $(ls -1 ../supplementary_data/reference_DBs/* | grep \".gb$\")\n",
    "do\n",
    "      echo -e \"$file\\tgb\"\n",
    "done > REFmap.txt"
   ]
  },
  {
   "cell_type": "code",
   "execution_count": 16,
   "metadata": {
    "collapsed": false
   },
   "outputs": [
    {
     "name": "stdout",
     "output_type": "stream",
     "text": [
      "../supplementary_data/reference_DBs/12S_Fish_SATIVA_cleaned_May_2017.gb\tgb\r\n",
      "../supplementary_data/reference_DBs/Astatotilapia_calliptera.gb\tgb\r\n"
     ]
    }
   ],
   "source": [
    "!cat REFmap.txt"
   ]
  },
  {
   "cell_type": "code",
   "execution_count": null,
   "metadata": {
    "collapsed": true
   },
   "outputs": [],
   "source": [
    "%%bash\n",
    "\n",
    "metaBEAT_global.py \\\n",
    "-R REFmap.txt \\\n",
    "-f \\\n",
    "-@ haikuilee@gmail.com"
   ]
  },
  {
   "cell_type": "code",
   "execution_count": null,
   "metadata": {
    "collapsed": true
   },
   "outputs": [],
   "source": [
    "!head refs.fasta"
   ]
  },
  {
   "cell_type": "code",
   "execution_count": null,
   "metadata": {
    "collapsed": true
   },
   "outputs": [],
   "source": [
    "%%bash\n",
    "\n",
    "echo -e \"Starttime: $(date)\\n\"\n",
    "\n",
    "for a in $(cut -f 1 ../trimming/Querymap_demultiplex_trimming.txt)\n",
    "do\n",
    "    if [ -s ../trimming/$a/$a\\_trimmed.fasta ]\n",
    "    then\n",
    "        echo -e \"\\n### Detecting chimeras in $a ###\\n\"\n",
    "        mkdir $a\n",
    "        cd $a\n",
    "        vsearch --uchime_ref ../../trimming/$a/$a\\_trimmed.fasta --db ../refs.fasta \\\n",
    "        --nonchimeras $a-nonchimeras.fasta --chimeras $a-chimeras.fasta &> log\n",
    "        cd ..\n",
    "\n",
    "    else\n",
    "        echo -e \"$a is empty\"\n",
    "    fi\n",
    "done\n",
    "\n",
    "echo -e \"Endtime: $(date)\\n\""
   ]
  },
  {
   "cell_type": "markdown",
   "metadata": {},
   "source": [
    "### Last step is taxonomic assignment of reads based on a BLAST - LCA approach using the metaBEAT pipeline."
   ]
  },
  {
   "cell_type": "code",
   "execution_count": 20,
   "metadata": {
    "collapsed": false
   },
   "outputs": [
    {
     "name": "stdout",
     "output_type": "stream",
     "text": [
      "/home/working\n"
     ]
    }
   ],
   "source": [
    "cd .."
   ]
  },
  {
   "cell_type": "code",
   "execution_count": 21,
   "metadata": {
    "collapsed": true
   },
   "outputs": [],
   "source": [
    "!mkdir non-chimeras"
   ]
  },
  {
   "cell_type": "code",
   "execution_count": 22,
   "metadata": {
    "collapsed": false
   },
   "outputs": [
    {
     "name": "stdout",
     "output_type": "stream",
     "text": [
      "/home/working/non-chimeras\n"
     ]
    }
   ],
   "source": [
    "cd non-chimeras/"
   ]
  },
  {
   "cell_type": "code",
   "execution_count": 23,
   "metadata": {
    "collapsed": false
   },
   "outputs": [
    {
     "name": "stdout",
     "output_type": "stream",
     "text": [
      "/home/working/non-chimeras\r\n"
     ]
    }
   ],
   "source": [
    "!pwd"
   ]
  },
  {
   "cell_type": "markdown",
   "metadata": {},
   "source": [
    "__Prepare Querymap and Refmap txt files__\n",
    "\n",
    "__To skip the `GLOBAL` folder under chimeras detection, add a new line in below command  if [ \"$a\" != \"GLOBAL\" ]__"
   ]
  },
  {
   "cell_type": "code",
   "execution_count": 24,
   "metadata": {
    "collapsed": true
   },
   "outputs": [],
   "source": [
    "%%bash\n",
    "\n",
    "#Querymap\n",
    "for a in $(ls -l ../chimera_detection/ | grep \"^d\" | perl -ne 'chomp; @a=split(\" \"); print \"$a[-1]\\n\"')\n",
    "do\n",
    "   if [ \"$a\" != \"GLOBAL\" ]\n",
    "   then\n",
    "      echo -e \"$a-nc\\tfasta\\t../chimera_detection/$a/$a-nonchimeras.fasta\"\n",
    "   fi\n",
    "done > Querymap.txt\n",
    "\n",
    "\n",
    "#Write REFmap\n",
    "for file in $(ls -1 ../supplementary_data/reference_DBs/* | grep \".gb$\")\n",
    "do\n",
    "      echo -e \"$file\\tgb\"\n",
    "done > REFmap.txt\n"
   ]
  },
  {
   "cell_type": "markdown",
   "metadata": {},
   "source": [
    "### Sequence clustering and taxonomic assignment via metaBEAT"
   ]
  },
  {
   "cell_type": "code",
   "execution_count": 25,
   "metadata": {
    "collapsed": false
   },
   "outputs": [
    {
     "name": "stdout",
     "output_type": "stream",
     "text": [
      "Starttime: Tue May  8 21:03:44 UTC 2018\n",
      "\n",
      "Endtime: Tue May  8 21:16:13 UTC 2018\n",
      "\n"
     ]
    }
   ],
   "source": [
    "%%bash\n",
    "\n",
    "echo -e \"Starttime: $(date)\\n\"\n",
    "\n",
    "metaBEAT_global.py \\\n",
    "-Q Querymap.txt \\\n",
    "-R REFmap.txt \\\n",
    "--cluster --clust_match 1 --clust_cov 3 \\\n",
    "--blast --min_ident 1.0 \\\n",
    "-m 12S -n 5 \\\n",
    "-E -v \\\n",
    "-@  haikuilee@gmail.com \\\n",
    "-o Dyn_12S-trim_30-merged-nonchimeras-cluster_1c3-blast-min_ident_1 &> log_non-chimeras\n",
    "\n",
    "echo -e \"Endtime: $(date)\\n\""
   ]
  },
  {
   "cell_type": "markdown",
   "metadata": {
    "collapsed": true
   },
   "source": [
    "#### Results are under the GLOBAL folder"
   ]
  },
  {
   "cell_type": "code",
   "execution_count": null,
   "metadata": {
    "collapsed": true
   },
   "outputs": [],
   "source": []
  }
 ],
 "metadata": {
  "kernelspec": {
   "display_name": "Python 2",
   "language": "python",
   "name": "python2"
  },
  "language_info": {
   "codemirror_mode": {
    "name": "ipython",
    "version": 2
   },
   "file_extension": ".py",
   "mimetype": "text/x-python",
   "name": "python",
   "nbconvert_exporter": "python",
   "pygments_lexer": "ipython2",
   "version": "2.7.6"
  }
 },
 "nbformat": 4,
 "nbformat_minor": 0
}
