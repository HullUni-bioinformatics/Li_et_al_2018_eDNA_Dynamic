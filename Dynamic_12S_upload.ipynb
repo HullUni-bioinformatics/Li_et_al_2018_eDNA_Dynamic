{
 "cells": [
  {
   "cell_type": "markdown",
   "metadata": {},
   "source": [
    "#metaBEAT analysis of Illumina seq output for Dynamic_12S"
   ]
  },
  {
   "cell_type": "markdown",
   "metadata": {},
   "source": [
    "###Mark sure your metaBEAT image version is the latest\n",
    "\n",
    "`metaBEAT - metaBarcoding and Environmental DNA Analyses tool version: v.0.97.11-global`\n",
    "\n",
    "Update from your terminal\n",
    "\n",
    "####check the image, the ID of metaBEAT v.0.97.11 should be `6f6ac6eca734`\n",
    "\n",
    "sudo docker images\n",
    "####if not, use the command to update the image from your terminal\n",
    "\n",
    "sudo docker pull chrishah/metabeat\n"
   ]
  },
  {
   "cell_type": "code",
   "execution_count": 1,
   "metadata": {
    "collapsed": false
   },
   "outputs": [
    {
     "name": "stdout",
     "output_type": "stream",
     "text": [
      "/home/working\r\n"
     ]
    }
   ],
   "source": [
    "!pwd"
   ]
  },
  {
   "cell_type": "markdown",
   "metadata": {},
   "source": [
    "##The first step will be to trim/clean our raw Illumina data"
   ]
  },
  {
   "cell_type": "markdown",
   "metadata": {},
   "source": [
    "Prepare a text file ' Querymap' specifying the samples to be processed including the format and location of the reads.\n",
    "\n",
    "The below command expects the Illumina data to be present in 2 fastq files (forward and reverse reads) per sample in a directory ./raw_data/. It expects the files to be named 'plateID_L001', followed by 'R1' or 'R2' to identify the forward/reverse read file respectively. \n",
    "\n",
    "We need a query map which lists these files along with the primer combinations for each well in each file, and the length of the primer sequence (including heterogeneity spacers, but NOT including any tags) to be trimmed off."
   ]
  },
  {
   "cell_type": "code",
   "execution_count": 2,
   "metadata": {
    "collapsed": true
   },
   "outputs": [],
   "source": [
    "!mkdir trimming"
   ]
  },
  {
   "cell_type": "code",
   "execution_count": 3,
   "metadata": {
    "collapsed": false
   },
   "outputs": [
    {
     "name": "stdout",
     "output_type": "stream",
     "text": [
      "/home/working/trimming\n"
     ]
    }
   ],
   "source": [
    "cd trimming/"
   ]
  },
  {
   "cell_type": "code",
   "execution_count": 4,
   "metadata": {
    "collapsed": false
   },
   "outputs": [],
   "source": [
    "!mv ../Querymap_demultiplex_trimming.txt ../trimming/"
   ]
  },
  {
   "cell_type": "code",
   "execution_count": 5,
   "metadata": {
    "collapsed": false
   },
   "outputs": [
    {
     "name": "stdout",
     "output_type": "stream",
     "text": [
      "Querymap_demultiplex_trimming.txt\r\n"
     ]
    }
   ],
   "source": [
    "!ls ../trimming/"
   ]
  },
  {
   "cell_type": "code",
   "execution_count": 6,
   "metadata": {
    "collapsed": false,
    "scrolled": false
   },
   "outputs": [
    {
     "name": "stdout",
     "output_type": "stream",
     "text": [
      "E1_D0_P1_1\tfastq\t../raw_data/E1_D0-12S_R1.fastq.gz\t../raw_data/E1_D0-12S_R2.fastq.gz\tTCGCCTTA\tTAGATCGC\t18\t18\r",
      "\r\n",
      "E1_D0_P1_2\tfastq\t../raw_data/E1_D0-12S_R1.fastq.gz\t../raw_data/E1_D0-12S_R2.fastq.gz\tTCGCCTTA\tCTCTCTAT\t18\t19\r",
      "\r\n",
      "E1_D0_P1_3\tfastq\t../raw_data/E1_D0-12S_R1.fastq.gz\t../raw_data/E1_D0-12S_R2.fastq.gz\tTCGCCTTA\tTATCCTCT\t18\t20\r",
      "\r\n",
      "E1_D0_Blank1\tfastq\t../raw_data/E1_D0-12S_R1.fastq.gz\t../raw_data/E1_D0-12S_R2.fastq.gz\tTCGCCTTA\tAGAGTAGA\t18\t21\r",
      "\r\n",
      "E1_D0_P2_1\tfastq\t../raw_data/E1_D0-12S_R1.fastq.gz\t../raw_data/E1_D0-12S_R2.fastq.gz\tTCGCCTTA\tGTAAGGAG\t18\t22\r",
      "\r\n",
      "E1_D0_P2_2\tfastq\t../raw_data/E1_D0-12S_R1.fastq.gz\t../raw_data/E1_D0-12S_R2.fastq.gz\tTCGCCTTA\tACTGCATA\t18\t23\r",
      "\r\n",
      "E1_D0_P2_3\tfastq\t../raw_data/E1_D0-12S_R1.fastq.gz\t../raw_data/E1_D0-12S_R2.fastq.gz\tTCGCCTTA\tAAGGAGTA\t18\t24\r",
      "\r\n",
      "E1_D0_P3_1\tfastq\t../raw_data/E1_D0-12S_R1.fastq.gz\t../raw_data/E1_D0-12S_R2.fastq.gz\tCTAGTACG\tTAGATCGC\t19\t18\r",
      "\r\n",
      "E1_D0_P3_2\tfastq\t../raw_data/E1_D0-12S_R1.fastq.gz\t../raw_data/E1_D0-12S_R2.fastq.gz\tCTAGTACG\tCTCTCTAT\t19\t19\r",
      "\r\n",
      "E1_D0_P3_3\tfastq\t../raw_data/E1_D0-12S_R1.fastq.gz\t../raw_data/E1_D0-12S_R2.fastq.gz\tCTAGTACG\tTATCCTCT\t19\t20\r",
      "\r\n"
     ]
    }
   ],
   "source": [
    "!head Querymap_demultiplex_trimming.txt"
   ]
  },
  {
   "cell_type": "code",
   "execution_count": 7,
   "metadata": {
    "collapsed": false,
    "scrolled": true
   },
   "outputs": [
    {
     "name": "stdout",
     "output_type": "stream",
     "text": [
      "E1_D0-12S_R1.fastq.gz   E1_D10-12S_R2.fastq.gz  E4_D06-12S_R1.fastq.gz\r\n",
      "E1_D0-12S_R2.fastq.gz   E1_D12-12S_R1.fastq.gz  E4_D06-12S_R2.fastq.gz\r\n",
      "E1_D02-12S_R1.fastq.gz  E1_D12-12S_R2.fastq.gz  E4_D08-12S_R1.fastq.gz\r\n",
      "E1_D02-12S_R2.fastq.gz  E1_D14-12S_R1.fastq.gz  E4_D08-12S_R2.fastq.gz\r\n",
      "E1_D04-12S_R1.fastq.gz  E1_D14-12S_R2.fastq.gz  E4_D10-12S_R1.fastq.gz\r\n",
      "E1_D04-12S_R2.fastq.gz  E4_D0-12S_R1.fastq.gz   E4_D10-12S_R2.fastq.gz\r\n",
      "E1_D06-12S_R1.fastq.gz  E4_D0-12S_R2.fastq.gz   E4_D12-12S_R1.fastq.gz\r\n",
      "E1_D06-12S_R2.fastq.gz  E4_D02-12S_R1.fastq.gz  E4_D12-12S_R2.fastq.gz\r\n",
      "E1_D08-12S_R1.fastq.gz  E4_D02-12S_R2.fastq.gz  E4_D14-12S_R1.fastq.gz\r\n",
      "E1_D08-12S_R2.fastq.gz  E4_D04-12S_R1.fastq.gz  E4_D14-12S_R2.fastq.gz\r\n",
      "E1_D10-12S_R1.fastq.gz  E4_D04-12S_R2.fastq.gz\r\n"
     ]
    }
   ],
   "source": [
    "ls ../raw_data/"
   ]
  },
  {
   "cell_type": "markdown",
   "metadata": {},
   "source": [
    "### The current version of metaBEAT is v.0.97.8-global"
   ]
  },
  {
   "cell_type": "code",
   "execution_count": 8,
   "metadata": {
    "collapsed": false
   },
   "outputs": [
    {
     "name": "stdout",
     "output_type": "stream",
     "text": [
      "usage: metaBEAT.py [-h] [-Q <FILE>] [-B <FILE>] [--g_queries <FILE>] [-v] [-s]\n",
      "                   [-f] [-p] [-k] [-t] [-b] [-m <string>] [-n <INT>] [-E] [-e]\n",
      "                   [--read_stats_off] [--PCR_primer <FILE>] [--bc_dist <INT>]\n",
      "                   [--trim_adapter <FILE>] [--trim_qual <INT>] [--phred <INT>]\n",
      "                   [--trim_window <INT>] [--read_crop <INT>]\n",
      "                   [--trim_minlength <INT>] [--merge] [--product_length <INT>]\n",
      "                   [--merged_only] [--forward_only] [--length_filter <INT>]\n",
      "                   [--length_deviation <FLOAT>] [-R <FILE>] [--gb_out <FILE>]\n",
      "                   [--rec_check] [--gb_to_taxid <FILE>] [--cluster]\n",
      "                   [--clust_match <FLOAT>] [--clust_cov <INT>]\n",
      "                   [--blast_db <PATH>] [--blast_xml <PATH>]\n",
      "                   [--update_taxonomy] [--taxonomy_db <FILE>]\n",
      "                   [--min_ident <FLOAT>] [--min_ali_length <FLOAT>]\n",
      "                   [--bitscore_skim_LCA <FLOAT>] [--bitscore_skim_adjust_off]\n",
      "                   [--min_bit <INT>] [--refpkg <DIR>] [--jplace <FILE>]\n",
      "                   [--jellyfish_hash_size <STR>] [--kraken_db <DIR>]\n",
      "                   [--kraken_score_threshold <FLOAT>] [--rm_kraken_db]\n",
      "                   [-o OUTPUT_PREFIX] [--metadata METADATA]\n",
      "                   [-@ <email-address>] [--version]\n",
      "\n",
      "metaBEAT - metaBarcoding and Environmental DNA Analyses tool version:\n",
      "v.0.97.11-global\n",
      "\n",
      "optional arguments:\n",
      "  -h, --help            show this help message and exit\n",
      "  -Q <FILE>, --querylist <FILE>\n",
      "                        file containing a list of query files\n",
      "  -B <FILE>, --BIOM_input <FILE>\n",
      "                        OTU table in BIOM format\n",
      "  --g_queries <FILE>    fasta file containing query sequences (in combination\n",
      "                        with '-B' sequence headers are expected to match)\n",
      "  -v, --verbose         turn verbose output on\n",
      "  -s, --seqinfo         write out seq_info.csv file\n",
      "  -f, --fasta           write out ref.fasta file\n",
      "  -p, --pplace          perform phylogenetic placement\n",
      "  -k, --kraken          perform phylogenetic placement\n",
      "  -t, --taxids          write out taxid.txt file\n",
      "  -b, --blast           compile local blast db and blast queries\n",
      "  -m <string>, --marker <string>\n",
      "                        marker ID (default: marker)\n",
      "  -n <INT>, --n_threads <INT>\n",
      "                        Number of threads (default: 1)\n",
      "  -E, --extract_centroid_reads\n",
      "                        extract centroid reads to files\n",
      "  -e, --extract_all_reads\n",
      "                        extract reads to files\n",
      "  --read_stats_off      ommit writing read stats to file\n",
      "  --version             show program's version number and exit\n",
      "\n",
      "Query preprocessing:\n",
      "  The parameters in this group affect how the query sequences are processed\n",
      "\n",
      "  --PCR_primer <FILE>   PCR primers (provided in fasta file) to be clipped\n",
      "                        from reads\n",
      "  --bc_dist <INT>       Number of mismatches allowed in barcode sequences\n",
      "  --trim_adapter <FILE>\n",
      "                        trim adapters provided in file\n",
      "  --trim_qual <INT>     minimum phred quality score (default: 30)\n",
      "  --phred <INT>         phred quality score offset - 33 or 64 (default: 33)\n",
      "  --trim_window <INT>   sliding window size (default: 5) for trimming; if\n",
      "                        average quality drops below the specified minimum\n",
      "                        quality all subsequent bases are removed from the\n",
      "                        reads\n",
      "  --read_crop <INT>     Crop reads to this length if they are longer than that\n",
      "                        (default: off)\n",
      "  --trim_minlength <INT>\n",
      "                        minimum length of reads to be retained after trimming\n",
      "                        (default: 50)\n",
      "  --merge               attempt to merge paired-end reads\n",
      "  --product_length <INT>\n",
      "                        estimated length of PCR product (specifying this\n",
      "                        option increases merging efficiency)\n",
      "  --merged_only         only process successfully merged read-pairs\n",
      "  --forward_only        only process sequences that contain forward reads\n",
      "                        (i.e. unmerged forward reads and merged reads)\n",
      "  --length_filter <INT>\n",
      "                        only process reads, which are within +/- 10 percent of\n",
      "                        this length\n",
      "  --length_deviation <FLOAT>\n",
      "                        allowed deviation (in percent) from length specified\n",
      "                        by --length_filter (default=0.1)\n",
      "\n",
      "Reference:\n",
      "  The parameters in this group affect the reference to be used in the\n",
      "  analyses\n",
      "\n",
      "  -R <FILE>, --REFlist <FILE>\n",
      "                        file containing a list of files to be used as\n",
      "                        reference sequences\n",
      "  --gb_out <FILE>       output the corrected gb file\n",
      "  --rec_check           check records to be used as reference\n",
      "  --gb_to_taxid <FILE>  comma delimited file containing 'gb accession,taxid'\n",
      "                        for a list of taxa\n",
      "\n",
      "Query clustering options:\n",
      "  The parameters in this group affect read clustering\n",
      "\n",
      "  --cluster             perform clustering of query sequences using vsearch\n",
      "  --clust_match <FLOAT>\n",
      "                        identity threshold for clustering in percent (default:\n",
      "                        1)\n",
      "  --clust_cov <INT>     minimum number of records in cluster (default: 1)\n",
      "\n",
      "BLAST search:\n",
      "  The parameters in this group affect BLAST search and BLAST based taxonomic\n",
      "  assignment\n",
      "\n",
      "  --blast_db <PATH>     path to precompiled blast database\n",
      "  --blast_xml <PATH>    path to Blast result in xml format\n",
      "  --update_taxonomy     Download/update taxonomy database. Database will be\n",
      "                        called 'taxonomy.db' and will be compiled in the same\n",
      "                        location as the metaBEAT.py script.\n",
      "  --taxonomy_db <FILE>  taxonomy database file location. In case it's not the\n",
      "                        default, which is 'taxonomy.db' in the same directory\n",
      "                        as the metaBEAT.py script.\n",
      "  --min_ident <FLOAT>   minimum identity threshold in percent (default: 0.80)\n",
      "  --min_ali_length <FLOAT>\n",
      "                        minimum alignment length in percent of total query\n",
      "                        length (default: 0.95)\n",
      "  --bitscore_skim_LCA <FLOAT>\n",
      "                        Only BLAST hits with bitscores differing by less than\n",
      "                        this factor from the top hit (bitscore skim window)\n",
      "                        will be considered for LCA (0-1; default: 0.1)\n",
      "  --bitscore_skim_adjust_off\n",
      "                        Per default a 100% identity BLAST top hit across the\n",
      "                        minimum alignment length triggers an adjustment of the\n",
      "                        bitscore skim window to '0', i.e. only hits with\n",
      "                        bitscores as good as the top hit are considered for\n",
      "                        LCA. This flag switches this behaviour off.\n",
      "  --min_bit <INT>       minimum bitscore (default: 80)\n",
      "\n",
      "Phylogenetic placement:\n",
      "  The parameters in this group affect phylogenetic placement\n",
      "\n",
      "  --refpkg <DIR>        PATH to refpkg for pplacer\n",
      "  --jplace <FILE>       phylogenetic placement result from prefious pplacer\n",
      "                        run in *.jplace format\n",
      "\n",
      "Kraken:\n",
      "  The parameters in this group affect taxonomic assignment using Kraken\n",
      "\n",
      "  --jellyfish_hash_size <STR>\n",
      "                        jellyfish hash size to control memory usage during\n",
      "                        kraken database building. A table size of '6400M' will\n",
      "                        require ~44G of RAM. '2700M' -> 20G RAM.\n",
      "  --kraken_db <DIR>     PATH to a Kraken database\n",
      "  --kraken_score_threshold <FLOAT>\n",
      "                        minimum proportion of k-mers to support assignment\n",
      "                        (0-1; default: 0)\n",
      "  --rm_kraken_db        Remove Kraken database after successful completion\n",
      "\n",
      "BIOM OUTPUT:\n",
      "  The arguments in this groups affect the output in BIOM format\n",
      "\n",
      "  -o OUTPUT_PREFIX, --output_prefix OUTPUT_PREFIX\n",
      "                        prefix for BIOM output files (default='metaBEAT')\n",
      "  --metadata METADATA   comma delimited file containing metadata (optional)\n",
      "\n",
      "Entrez identification:\n",
      "  metaBEAT is querying the NCBI Entrez databases, please provide an email\n",
      "  address for identification\n",
      "\n",
      "  -@ <email-address>, --email <email-address>\n",
      "                        provide your email address for identification to NCBI\n"
     ]
    }
   ],
   "source": [
    "%%bash\n",
    "\n",
    "metaBEAT_global.py -h"
   ]
  },
  {
   "cell_type": "markdown",
   "metadata": {},
   "source": [
    "##Raw data demultiplex and trimming, removal of adapter sequences and merging of readsusing the metaBEAT pipeline.¶"
   ]
  },
  {
   "cell_type": "markdown",
   "metadata": {},
   "source": [
    "Now we run the trimming and clustering; note that there is no assignment method selected at this stage so metaBEAT will not attempt to make any assignments"
   ]
  },
  {
   "cell_type": "code",
   "execution_count": 10,
   "metadata": {
    "collapsed": false
   },
   "outputs": [
    {
     "name": "stdout",
     "output_type": "stream",
     "text": [
      "Starttime: Tue May  8 12:41:03 UTC 2018\n",
      "\n",
      "Endtime: Tue May  8 15:33:13 UTC 2018\n",
      "\n"
     ]
    }
   ],
   "source": [
    "%%bash\n",
    "\n",
    "echo -e \"Starttime: $(date)\\n\"\n",
    "\n",
    "metaBEAT_global.py \\\n",
    "-Q Querymap_demultiplex_trimming.txt \\\n",
    "--trim_qual 30 \\\n",
    "--trim_minlength 90 \\\n",
    "--merge \\\n",
    "--product_length 110 \\\n",
    "--read_crop 110 \\\n",
    "--forward_only \\\n",
    "--length_filter 100 \\\n",
    "--length_deviation 0.2 \\\n",
    "-m 12S -o Dyn_12S-trim30min90-merge-c3-id1 \\\n",
    "-n 5 -v \\\n",
    "-@ haikuilee@gmail.com &> log_trimming\n",
    "\n",
    "echo -e \"Endtime: $(date)\\n\""
   ]
  },
  {
   "cell_type": "code",
   "execution_count": 11,
   "metadata": {
    "collapsed": false
   },
   "outputs": [
    {
     "name": "stdout",
     "output_type": "stream",
     "text": [
      "/home/working\n"
     ]
    }
   ],
   "source": [
    "cd ../"
   ]
  },
  {
   "cell_type": "markdown",
   "metadata": {},
   "source": [
    "## The second step is chimera detection"
   ]
  },
  {
   "cell_type": "code",
   "execution_count": 12,
   "metadata": {
    "collapsed": true
   },
   "outputs": [],
   "source": [
    "!mkdir chimera_detection"
   ]
  },
  {
   "cell_type": "code",
   "execution_count": 13,
   "metadata": {
    "collapsed": false
   },
   "outputs": [
    {
     "name": "stdout",
     "output_type": "stream",
     "text": [
      "/home/working/chimera_detection\n"
     ]
    }
   ],
   "source": [
    "cd chimera_detection/"
   ]
  },
  {
   "cell_type": "markdown",
   "metadata": {},
   "source": [
    "### Prepare Ref map\n",
    "    \n",
    "Convert reference database from Genbank to fasta format to be used in chimera detection.\n",
    "\n",
    "Prepare Refmap file, i.e. text file that specifies the location and the format of the reference to be used.\n",
    "\n",
    "The reference sequences in Genbank format should already be present in the `supplementary_data` directory: \n",
    "\n",
    "`12S_Fish_SATIVA_cleaned_May_2017.gb`\n",
    "\n",
    "`Astatotilapia_calliptera.gb` is positive control"
   ]
  },
  {
   "cell_type": "code",
   "execution_count": 14,
   "metadata": {
    "collapsed": false
   },
   "outputs": [
    {
     "name": "stdout",
     "output_type": "stream",
     "text": [
      "12S_Fish_SATIVA_cleaned_May_2017.gb  Astatotilapia_calliptera.gb\r\n"
     ]
    }
   ],
   "source": [
    "!ls ../supplementary_data/reference_DBs/"
   ]
  },
  {
   "cell_type": "code",
   "execution_count": 15,
   "metadata": {
    "collapsed": true
   },
   "outputs": [],
   "source": [
    "%%bash\n",
    "\n",
    "#Write REFmap\n",
    "for file in $(ls -1 ../supplementary_data/reference_DBs/* | grep \".gb$\")\n",
    "do\n",
    "      echo -e \"$file\\tgb\"\n",
    "done > REFmap.txt"
   ]
  },
  {
   "cell_type": "code",
   "execution_count": 16,
   "metadata": {
    "collapsed": false
   },
   "outputs": [
    {
     "name": "stdout",
     "output_type": "stream",
     "text": [
      "../supplementary_data/reference_DBs/12S_Fish_SATIVA_cleaned_May_2017.gb\tgb\r\n",
      "../supplementary_data/reference_DBs/Astatotilapia_calliptera.gb\tgb\r\n"
     ]
    }
   ],
   "source": [
    "!cat REFmap.txt"
   ]
  },
  {
   "cell_type": "code",
   "execution_count": null,
   "metadata": {
    "collapsed": true
   },
   "outputs": [],
   "source": [
    "%%bash\n",
    "\n",
    "metaBEAT_global.py \\\n",
    "-R REFmap.txt \\\n",
    "-f \\\n",
    "-@ haikuilee@gmail.com"
   ]
  },
  {
   "cell_type": "code",
   "execution_count": null,
   "metadata": {
    "collapsed": true
   },
   "outputs": [],
   "source": [
    "!head refs.fasta"
   ]
  },
  {
   "cell_type": "code",
   "execution_count": null,
   "metadata": {
    "collapsed": true
   },
   "outputs": [],
   "source": [
    "%%bash\n",
    "\n",
    "echo -e \"Starttime: $(date)\\n\"\n",
    "\n",
    "for a in $(cut -f 1 ../trimming/Querymap_demultiplex_trimming.txt)\n",
    "do\n",
    "    if [ -s ../trimming/$a/$a\\_trimmed.fasta ]\n",
    "    then\n",
    "        echo -e \"\\n### Detecting chimeras in $a ###\\n\"\n",
    "        mkdir $a\n",
    "        cd $a\n",
    "        vsearch --uchime_ref ../../trimming/$a/$a\\_trimmed.fasta --db ../refs.fasta \\\n",
    "        --nonchimeras $a-nonchimeras.fasta --chimeras $a-chimeras.fasta &> log\n",
    "        cd ..\n",
    "\n",
    "    else\n",
    "        echo -e \"$a is empty\"\n",
    "    fi\n",
    "done\n",
    "\n",
    "echo -e \"Endtime: $(date)\\n\""
   ]
  },
  {
   "cell_type": "markdown",
   "metadata": {},
   "source": [
    "### Last step is taxonomic assignment of reads based on a BLAST - LCA approach using the metaBEAT pipeline."
   ]
  },
  {
   "cell_type": "code",
   "execution_count": 20,
   "metadata": {
    "collapsed": false
   },
   "outputs": [
    {
     "name": "stdout",
     "output_type": "stream",
     "text": [
      "/home/working\n"
     ]
    }
   ],
   "source": [
    "cd .."
   ]
  },
  {
   "cell_type": "code",
   "execution_count": 21,
   "metadata": {
    "collapsed": true
   },
   "outputs": [],
   "source": [
    "!mkdir non-chimeras"
   ]
  },
  {
   "cell_type": "code",
   "execution_count": 22,
   "metadata": {
    "collapsed": false
   },
   "outputs": [
    {
     "name": "stdout",
     "output_type": "stream",
     "text": [
      "/home/working/non-chimeras\n"
     ]
    }
   ],
   "source": [
    "cd non-chimeras/"
   ]
  },
  {
   "cell_type": "code",
   "execution_count": 23,
   "metadata": {
    "collapsed": false
   },
   "outputs": [
    {
     "name": "stdout",
     "output_type": "stream",
     "text": [
      "/home/working/non-chimeras\r\n"
     ]
    }
   ],
   "source": [
    "!pwd"
   ]
  },
  {
   "cell_type": "markdown",
   "metadata": {},
   "source": [
    "__Prepare Querymap and Refmap txt files__\n",
    "\n",
    "__To skip the `GLOBAL` folder under chimeras detection, add a new line in below command  if [ \"$a\" != \"GLOBAL\" ]__"
   ]
  },
  {
   "cell_type": "code",
   "execution_count": 24,
   "metadata": {
    "collapsed": true
   },
   "outputs": [],
   "source": [
    "%%bash\n",
    "\n",
    "#Querymap\n",
    "for a in $(ls -l ../chimera_detection/ | grep \"^d\" | perl -ne 'chomp; @a=split(\" \"); print \"$a[-1]\\n\"')\n",
    "do\n",
    "   if [ \"$a\" != \"GLOBAL\" ]\n",
    "   then\n",
    "      echo -e \"$a-nc\\tfasta\\t../chimera_detection/$a/$a-nonchimeras.fasta\"\n",
    "   fi\n",
    "done > Querymap.txt\n",
    "\n",
    "\n",
    "#Write REFmap\n",
    "for file in $(ls -1 ../supplementary_data/reference_DBs/* | grep \".gb$\")\n",
    "do\n",
    "      echo -e \"$file\\tgb\"\n",
    "done > REFmap.txt\n"
   ]
  },
  {
   "cell_type": "markdown",
   "metadata": {},
   "source": [
    "### Sequence clustering and taxonomic assignment via metaBEAT"
   ]
  },
  {
   "cell_type": "code",
   "execution_count": 25,
   "metadata": {
    "collapsed": false
   },
   "outputs": [
    {
     "name": "stdout",
     "output_type": "stream",
     "text": [
      "Starttime: Tue May  8 21:03:44 UTC 2018\n",
      "\n",
      "Endtime: Tue May  8 21:16:13 UTC 2018\n",
      "\n"
     ]
    }
   ],
   "source": [
    "%%bash\n",
    "\n",
    "echo -e \"Starttime: $(date)\\n\"\n",
    "\n",
    "metaBEAT_global.py \\\n",
    "-Q Querymap.txt \\\n",
    "-R REFmap.txt \\\n",
    "--cluster --clust_match 1 --clust_cov 3 \\\n",
    "--blast --min_ident 1.0 \\\n",
    "-m 12S -n 5 \\\n",
    "-E -v \\\n",
    "-@  haikuilee@gmail.com \\\n",
    "-o Dyn_12S-trim_30-merged-nonchimeras-cluster_1c3-blast-min_ident_1 &> log_non-chimeras\n",
    "\n",
    "echo -e \"Endtime: $(date)\\n\""
   ]
  },
  {
   "cell_type": "markdown",
   "metadata": {
    "collapsed": true
   },
   "source": [
    "#### Results are under the GLOBAL folder"
   ]
  },
  {
   "cell_type": "code",
   "execution_count": null,
   "metadata": {
    "collapsed": true
   },
   "outputs": [],
   "source": []
  }
 ],
 "metadata": {
  "kernelspec": {
   "display_name": "Python 2",
   "language": "python",
   "name": "python2"
  },
  "language_info": {
   "codemirror_mode": {
    "name": "ipython",
    "version": 2
   },
   "file_extension": ".py",
   "mimetype": "text/x-python",
   "name": "python",
   "nbconvert_exporter": "python",
   "pygments_lexer": "ipython2",
   "version": "2.7.6"
  }
 },
 "nbformat": 4,
 "nbformat_minor": 0
}
