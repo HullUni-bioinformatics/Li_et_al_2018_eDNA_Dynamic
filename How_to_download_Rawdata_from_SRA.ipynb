{
 "cells": [
  {
   "cell_type": "markdown",
   "metadata": {
    "slideshow": {
     "slide_type": "-"
    }
   },
   "source": [
    "\n",
    "Illumina data can be downloaded from SRA using the following workflow.\n",
    "\n",
    "It will requre the [SRA-toolkit](http://www.ncbi.nlm.nih.gov/Traces/sra/?view=toolkit_doc) program `fastq-dump` to be installed on your machine and in your path.\n",
    "\n",
    "If the necessary program is not yet present in your system you can get it as follows:"
   ]
  },
  {
   "cell_type": "code",
   "execution_count": 1,
   "metadata": {
    "collapsed": false
   },
   "outputs": [
    {
     "name": "stdout",
     "output_type": "stream",
     "text": [
      "/home/working\r\n"
     ]
    }
   ],
   "source": [
    "!pwd"
   ]
  },
  {
   "cell_type": "markdown",
   "metadata": {},
   "source": [
    "__Download the latest version of sratoolkit__"
   ]
  },
  {
   "cell_type": "code",
   "execution_count": null,
   "metadata": {
    "collapsed": true
   },
   "outputs": [],
   "source": [
    "\n",
    "%%bash\n",
    "\n",
    "mkdir SRA-toolkit\n",
    "cd SRA-toolkit\n",
    "\n",
    "wget ftp://ftp-trace.ncbi.nlm.nih.gov/sra/sdk/current/sratoolkit.current-centos_linux64.tar.gz\n",
    "\n",
    "#decompress the archive\n",
    "tar -xzf sratoolkit.current-centos_linux64.tar.gz\n"
   ]
  },
  {
   "cell_type": "code",
   "execution_count": 3,
   "metadata": {
    "collapsed": false
   },
   "outputs": [
    {
     "name": "stdout",
     "output_type": "stream",
     "text": [
      "sratoolkit.2.9.2-centos_linux64  sratoolkit.current-centos_linux64.tar.gz\r\n"
     ]
    }
   ],
   "source": [
    "!ls SRA-toolkit/"
   ]
  },
  {
   "cell_type": "code",
   "execution_count": 4,
   "metadata": {
    "collapsed": false
   },
   "outputs": [
    {
     "name": "stdout",
     "output_type": "stream",
     "text": [
      "/home/working\r\n"
     ]
    }
   ],
   "source": [
    "!pwd"
   ]
  },
  {
   "cell_type": "code",
   "execution_count": 5,
   "metadata": {
    "collapsed": false
   },
   "outputs": [],
   "source": [
    "%%bash\n",
    "\n",
    "\n",
    "#add the fastq-dump executable to your PATH (may require sudo)\n",
    "cp SRA-toolkit/sratoolkit.2.9.2-centos_linux64/bin/fastq-dump /usr/local/bin\n",
    "\n",
    "#remove SRA toolkit files that are not required\n",
    "\n",
    "rm -rf SRA-toolkit/"
   ]
  },
  {
   "cell_type": "markdown",
   "metadata": {},
   "source": [
    "\n",
    "The following commmand will read through the file Sample_accessions.tsv (see [here](https://github.com/HullUni-bioinformatics/Li_et_al_2018_eDNA_dynamic/blob/master/supplementary_data/Sample_accessions.tsv)) and download the relevant raw read files from SRA basd on the accessions provided in column 3 of the file. It will then rename the files according to the sampleID (column 1) and the marker (column 2).Then save the raw data to 'raw_data' folder"
   ]
  },
  {
   "cell_type": "code",
   "execution_count": 6,
   "metadata": {
    "collapsed": true
   },
   "outputs": [],
   "source": [
    "!mkdir raw_data"
   ]
  },
  {
   "cell_type": "code",
   "execution_count": 7,
   "metadata": {
    "collapsed": false
   },
   "outputs": [
    {
     "name": "stdout",
     "output_type": "stream",
     "text": [
      "/home/working/raw_data\n"
     ]
    }
   ],
   "source": [
    "cd raw_data/"
   ]
  },
  {
   "cell_type": "code",
   "execution_count": 8,
   "metadata": {
    "collapsed": false
   },
   "outputs": [
    {
     "name": "stdout",
     "output_type": "stream",
     "text": [
      "E1_D0\tSRR7716778\t12S\n",
      "Read 696652 spots for SRR7716778\n",
      "Written 696652 spots for SRR7716778\n",
      "E1_D02\tSRR7716779\t12S\n",
      "Read 743473 spots for SRR7716779\n",
      "Written 743473 spots for SRR7716779\n",
      "E1_D04\tSRR7716780\t12S\n",
      "Read 601960 spots for SRR7716780\n",
      "Written 601960 spots for SRR7716780\n",
      "E1_D06\tSRR7716781\t12S\n",
      "Read 742808 spots for SRR7716781\n",
      "Written 742808 spots for SRR7716781\n",
      "E1_D08\tSRR7716777\t12S\n",
      "Read 601668 spots for SRR7716777\n",
      "Written 601668 spots for SRR7716777\n",
      "E1_D10\tSRR7716786\t12S\n",
      "Read 691247 spots for SRR7716786\n",
      "Written 691247 spots for SRR7716786\n",
      "E1_D12\tSRR7716789\t12S\n",
      "Read 769499 spots for SRR7716789\n",
      "Written 769499 spots for SRR7716789\n",
      "E1_D14\tSRR7716791\t12S\n",
      "Read 656090 spots for SRR7716791\n",
      "Written 656090 spots for SRR7716791\n",
      "E4_D0\tSRR7716776\t12S\n",
      "Read 792165 spots for SRR7716776\n",
      "Written 792165 spots for SRR7716776\n",
      "E4_D02\tSRR7716788\t12S\n",
      "Read 916888 spots for SRR7716788\n",
      "Written 916888 spots for SRR7716788\n",
      "E4_D04\tSRR7716782\t12S\n",
      "Read 467564 spots for SRR7716782\n",
      "Written 467564 spots for SRR7716782\n",
      "E4_D06\tSRR7716783\t12S\n",
      "Read 570372 spots for SRR7716783\n",
      "Written 570372 spots for SRR7716783\n",
      "E4_D08\tSRR7716784\t12S\n",
      "Read 619798 spots for SRR7716784\n",
      "Written 619798 spots for SRR7716784\n",
      "E4_D10\tSRR7716785\t12S\n",
      "Read 672751 spots for SRR7716785\n",
      "Written 672751 spots for SRR7716785\n",
      "E4_D12\tSRR7716787\t12S\n",
      "Read 612307 spots for SRR7716787\n",
      "Written 612307 spots for SRR7716787\n",
      "E4_D14\tSRR7716790\t12S\n",
      "Read 667042 spots for SRR7716790\n",
      "Written 667042 spots for SRR7716790\n"
     ]
    }
   ],
   "source": [
    "\n",
    "%%bash\n",
    "\n",
    "for s in $(cat ../supplementary_data/Sample_accessions.tsv | sed 's/\\t/,/g' | grep \"SRA_accession\" -v)\n",
    "do \n",
    "    id=$(echo $s | cut -d \",\" -f 1)\n",
    "    accession=$(echo $s | cut -d \",\" -f 3)\n",
    "    marker=$(echo $s | cut -d \",\" -f 2)\n",
    "    echo -e \"$id\\t$accession\\t$marker\"\n",
    "    fastq-dump --split-files --gzip --defline-seq '@$ac-$sn/$ri' --defline-qual '+' $accession\n",
    "    mv $accession\\_1.fastq.gz $id-$marker\\_R1.fastq.gz\n",
    "    mv $accession\\_2.fastq.gz $id-$marker\\_R2.fastq.gz\n",
    "done"
   ]
  },
  {
   "cell_type": "markdown",
   "metadata": {},
   "source": [
    "__Double check if all files are there.__"
   ]
  },
  {
   "cell_type": "code",
   "execution_count": 9,
   "metadata": {
    "collapsed": false
   },
   "outputs": [
    {
     "name": "stdout",
     "output_type": "stream",
     "text": [
      "E1_D0-12S_R1.fastq.gz\tE1_D10-12S_R2.fastq.gz\tE4_D06-12S_R1.fastq.gz\r\n",
      "E1_D0-12S_R2.fastq.gz\tE1_D12-12S_R1.fastq.gz\tE4_D06-12S_R2.fastq.gz\r\n",
      "E1_D02-12S_R1.fastq.gz\tE1_D12-12S_R2.fastq.gz\tE4_D08-12S_R1.fastq.gz\r\n",
      "E1_D02-12S_R2.fastq.gz\tE1_D14-12S_R1.fastq.gz\tE4_D08-12S_R2.fastq.gz\r\n",
      "E1_D04-12S_R1.fastq.gz\tE1_D14-12S_R2.fastq.gz\tE4_D10-12S_R1.fastq.gz\r\n",
      "E1_D04-12S_R2.fastq.gz\tE4_D0-12S_R1.fastq.gz\tE4_D10-12S_R2.fastq.gz\r\n",
      "E1_D06-12S_R1.fastq.gz\tE4_D0-12S_R2.fastq.gz\tE4_D12-12S_R1.fastq.gz\r\n",
      "E1_D06-12S_R2.fastq.gz\tE4_D02-12S_R1.fastq.gz\tE4_D12-12S_R2.fastq.gz\r\n",
      "E1_D08-12S_R1.fastq.gz\tE4_D02-12S_R2.fastq.gz\tE4_D14-12S_R1.fastq.gz\r\n",
      "E1_D08-12S_R2.fastq.gz\tE4_D04-12S_R1.fastq.gz\tE4_D14-12S_R2.fastq.gz\r\n",
      "E1_D10-12S_R1.fastq.gz\tE4_D04-12S_R2.fastq.gz\r\n"
     ]
    }
   ],
   "source": [
    "!ls"
   ]
  },
  {
   "cell_type": "code",
   "execution_count": null,
   "metadata": {
    "collapsed": true
   },
   "outputs": [],
   "source": []
  }
 ],
 "metadata": {
  "kernelspec": {
   "display_name": "Python 2",
   "language": "python",
   "name": "python2"
  },
  "language_info": {
   "codemirror_mode": {
    "name": "ipython",
    "version": 2
   },
   "file_extension": ".py",
   "mimetype": "text/x-python",
   "name": "python",
   "nbconvert_exporter": "python",
   "pygments_lexer": "ipython2",
   "version": "2.7.6"
  }
 },
 "nbformat": 4,
 "nbformat_minor": 0
}
